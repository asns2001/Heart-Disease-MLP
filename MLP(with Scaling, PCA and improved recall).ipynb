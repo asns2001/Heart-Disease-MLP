{
  "cells": [
    {
      "cell_type": "markdown",
      "metadata": {
        "id": "XAIXYQZJyz9K"
      },
      "source": [
        "# Library and data import"
      ]
    },
    {
      "cell_type": "code",
      "execution_count": 37,
      "metadata": {
        "id": "Ng4oyEGKek7h"
      },
      "outputs": [],
      "source": [
        "import tensorflow as tf\n",
        "from tensorflow import keras\n",
        "\n",
        "import os\n",
        "import tempfile\n",
        "\n",
        "import matplotlib as mpl\n",
        "import matplotlib.pyplot as plt\n",
        "import numpy as np\n",
        "import pandas as pd\n",
        "import seaborn as sns\n",
        "\n",
        "import sklearn\n",
        "from sklearn.metrics import confusion_matrix\n",
        "from sklearn.model_selection import train_test_split\n",
        "from sklearn.preprocessing import StandardScaler"
      ]
    },
    {
      "cell_type": "code",
      "execution_count": 38,
      "metadata": {
        "id": "NuWI1BtiXouA"
      },
      "outputs": [],
      "source": [
        "df = pd.read_csv(\"heart_indicators_clean_data.csv\") "
      ]
    },
    {
      "cell_type": "markdown",
      "metadata": {
        "id": "LWXXY11HbycR"
      },
      "source": [
        "# ANN Model Training"
      ]
    },
    {
      "cell_type": "code",
      "execution_count": 39,
      "metadata": {
        "id": "2viiewfTSdv4"
      },
      "outputs": [],
      "source": [
        "train_df, test_df = train_test_split(df, test_size=0.2)\n",
        "train_df, val_df = train_test_split(train_df, test_size=0.2)\n",
        "\n",
        "# Form np arrays of labels and features.\n",
        "train_labels = np.array(train_df.pop('HeartDiseaseorAttack'))\n",
        "bool_train_labels = train_labels != 0\n",
        "val_labels = np.array(val_df.pop('HeartDiseaseorAttack'))\n",
        "test_labels = np.array(test_df.pop('HeartDiseaseorAttack'))\n",
        "\n",
        "train_features = np.array(train_df)\n",
        "val_features = np.array(val_df)\n",
        "test_features = np.array(test_df)"
      ]
    },
    {
      "cell_type": "markdown",
      "source": [
        "PCA: 1 - Scaling Data"
      ],
      "metadata": {
        "id": "g6LEUdtAs7u2"
      }
    },
    {
      "cell_type": "code",
      "source": [
        "from sklearn.preprocessing import StandardScaler\n",
        "scaler = StandardScaler()\n",
        "\n",
        "# Fit on training set only.\n",
        "scaler.fit(train_features)\n",
        "\n",
        "# Apply transform to both the training set and the test set.\n",
        "train_features = scaler.transform(train_features)\n",
        "val_features = scaler.transform(val_features)\n",
        "test_features = scaler.transform(test_features)"
      ],
      "metadata": {
        "id": "9gHcixYHs5_h"
      },
      "execution_count": 40,
      "outputs": []
    },
    {
      "cell_type": "markdown",
      "source": [
        "PCA: 2 - PCA"
      ],
      "metadata": {
        "id": "R-BPRGZ1tIy6"
      }
    },
    {
      "cell_type": "code",
      "source": [
        "from sklearn.decomposition import PCA"
      ],
      "metadata": {
        "id": "HT1HW8zZs52Y"
      },
      "execution_count": 41,
      "outputs": []
    },
    {
      "cell_type": "code",
      "source": [
        "pca = PCA(n_components = 0.95)\n",
        "\n",
        "pca.fit(train_features)"
      ],
      "metadata": {
        "colab": {
          "base_uri": "https://localhost:8080/"
        },
        "id": "ZKPHdl4stNN6",
        "outputId": "376e9162-a3b2-4fb5-e4b9-861349f6b915"
      },
      "execution_count": 42,
      "outputs": [
        {
          "output_type": "execute_result",
          "data": {
            "text/plain": [
              "PCA(n_components=0.95)"
            ]
          },
          "metadata": {},
          "execution_count": 42
        }
      ]
    },
    {
      "cell_type": "code",
      "source": [
        "train_features = pca.transform(train_features)\n",
        "val_features = pca.transform(val_features)\n",
        "test_features = pca.transform(test_features)"
      ],
      "metadata": {
        "id": "SBR1HxmGtNGS"
      },
      "execution_count": 43,
      "outputs": []
    },
    {
      "cell_type": "code",
      "execution_count": 44,
      "metadata": {
        "id": "TT7cdjIlb0QZ"
      },
      "outputs": [],
      "source": [
        "METRICS = [\n",
        "      keras.metrics.TruePositives(name='tp'),\n",
        "      keras.metrics.FalsePositives(name='fp'),\n",
        "      keras.metrics.TrueNegatives(name='tn'),\n",
        "      keras.metrics.FalseNegatives(name='fn'), \n",
        "      keras.metrics.BinaryAccuracy(name='accuracy'),\n",
        "      keras.metrics.Precision(name='precision'),\n",
        "      keras.metrics.Recall(name='recall'),\n",
        "      keras.metrics.AUC(name='auc'),\n",
        "      keras.metrics.AUC(name='prc', curve='PR'), # precision-recall curve\n",
        "]\n",
        "\n",
        "def make_model(number_of_hidden_layers=1, activation_function='relu', final_activation_function='sigmoid', learning_rate=1e-3):\n",
        "  layers = [keras.layers.Dense(\n",
        "          16, activation='relu',\n",
        "          input_shape=(train_features.shape[-1],))]\n",
        "  for layer in range(number_of_hidden_layers):\n",
        "    layers.append(keras.layers.Dense(16, input_dim=16, activation=activation_function))\n",
        "\n",
        "  layers.append(keras.layers.Dropout(0.5))\n",
        "  layers.append(keras.layers.Dense(1, activation=final_activation_function))\n",
        "\n",
        "  model = keras.Sequential(layers)\n",
        "\n",
        "  model.compile(\n",
        "      optimizer=keras.optimizers.Adam(learning_rate=learning_rate),\n",
        "      loss=keras.losses.BinaryCrossentropy(),\n",
        "      metrics=METRICS)\n",
        "\n",
        "  return model\n"
      ]
    },
    {
      "cell_type": "code",
      "execution_count": 45,
      "metadata": {
        "id": "Ee43IUAnSyYr"
      },
      "outputs": [],
      "source": [
        "EPOCHS = 10 #was 100\n",
        "BATCH_SIZE = 2 #was 2048\n",
        "\n",
        "early_stopping = tf.keras.callbacks.EarlyStopping(\n",
        "    monitor='val_prc', \n",
        "    verbose=1,\n",
        "    patience=10,\n",
        "    mode='max',\n",
        "    restore_best_weights=True)"
      ]
    },
    {
      "cell_type": "code",
      "execution_count": 46,
      "metadata": {
        "colab": {
          "base_uri": "https://localhost:8080/"
        },
        "id": "oa9yJf5bS1IR",
        "outputId": "4cfdd7f9-7175-4f98-8fd8-0da70bde9c68"
      },
      "outputs": [
        {
          "output_type": "stream",
          "name": "stdout",
          "text": [
            "Model: \"sequential_11\"\n",
            "_________________________________________________________________\n",
            " Layer (type)                Output Shape              Param #   \n",
            "=================================================================\n",
            " dense_33 (Dense)            (None, 16)                320       \n",
            "                                                                 \n",
            " dense_34 (Dense)            (None, 16)                272       \n",
            "                                                                 \n",
            " dropout_11 (Dropout)        (None, 16)                0         \n",
            "                                                                 \n",
            " dense_35 (Dense)            (None, 1)                 17        \n",
            "                                                                 \n",
            "=================================================================\n",
            "Total params: 609\n",
            "Trainable params: 609\n",
            "Non-trainable params: 0\n",
            "_________________________________________________________________\n"
          ]
        }
      ],
      "source": [
        "model = make_model()\n",
        "model.summary()"
      ]
    },
    {
      "cell_type": "code",
      "execution_count": 47,
      "metadata": {
        "id": "FYJ8YD5rg9Qp"
      },
      "outputs": [],
      "source": [
        "pos_features = train_features[bool_train_labels]\n",
        "neg_features = train_features[~bool_train_labels]\n",
        "\n",
        "pos_labels = train_labels[bool_train_labels]\n",
        "neg_labels = train_labels[~bool_train_labels]"
      ]
    },
    {
      "cell_type": "code",
      "execution_count": 48,
      "metadata": {
        "colab": {
          "base_uri": "https://localhost:8080/"
        },
        "id": "QEa_qYAvVvuk",
        "outputId": "cbc37790-8376-400e-bf80-d50194c69537"
      },
      "outputs": [
        {
          "output_type": "execute_result",
          "data": {
            "text/plain": [
              "(147165, 19)"
            ]
          },
          "metadata": {},
          "execution_count": 48
        }
      ],
      "source": [
        "ids = np.arange(len(pos_features))\n",
        "choices = np.random.choice(ids, len(neg_features))\n",
        "\n",
        "res_pos_features = pos_features[choices]\n",
        "res_pos_labels = pos_labels[choices]\n",
        "\n",
        "res_pos_features.shape"
      ]
    },
    {
      "cell_type": "code",
      "execution_count": 49,
      "metadata": {
        "colab": {
          "base_uri": "https://localhost:8080/"
        },
        "id": "WajlQ7OEVw_e",
        "outputId": "68adf89e-116b-4eb2-ae95-24c4936d6840"
      },
      "outputs": [
        {
          "output_type": "execute_result",
          "data": {
            "text/plain": [
              "(294330, 19)"
            ]
          },
          "metadata": {},
          "execution_count": 49
        }
      ],
      "source": [
        "resampled_features = np.concatenate([res_pos_features, neg_features], axis=0)\n",
        "resampled_labels = np.concatenate([res_pos_labels, neg_labels], axis=0)\n",
        "\n",
        "order = np.arange(len(resampled_labels))\n",
        "np.random.shuffle(order)\n",
        "resampled_features = resampled_features[order]\n",
        "resampled_labels = resampled_labels[order]\n",
        "\n",
        "resampled_features.shape"
      ]
    },
    {
      "cell_type": "code",
      "execution_count": 50,
      "metadata": {
        "id": "sfsaWnkKVydG"
      },
      "outputs": [],
      "source": [
        "BUFFER_SIZE = 100000\n",
        "\n",
        "def make_ds(features, labels):\n",
        "  ds = tf.data.Dataset.from_tensor_slices((features, labels))#.cache()\n",
        "  ds = ds.shuffle(BUFFER_SIZE).repeat()\n",
        "  return ds\n",
        "\n",
        "pos_ds = make_ds(pos_features, pos_labels)\n",
        "neg_ds = make_ds(neg_features, neg_labels)"
      ]
    },
    {
      "cell_type": "code",
      "execution_count": 51,
      "metadata": {
        "id": "NxKa8G5TV1l0"
      },
      "outputs": [],
      "source": [
        "resampled_ds = tf.data.Dataset.sample_from_datasets([pos_ds, neg_ds], weights=[0.5, 0.5])\n",
        "resampled_ds = resampled_ds.batch(BATCH_SIZE).prefetch(2)"
      ]
    },
    {
      "cell_type": "code",
      "execution_count": 52,
      "metadata": {
        "colab": {
          "base_uri": "https://localhost:8080/"
        },
        "id": "8WG11DInV5Fg",
        "outputId": "346888f3-ae52-42bd-b8dc-08faa3f0fdfa"
      },
      "outputs": [
        {
          "output_type": "execute_result",
          "data": {
            "text/plain": [
              "229787.0"
            ]
          },
          "metadata": {},
          "execution_count": 52
        }
      ],
      "source": [
        "pos = len(df[df[\"HeartDiseaseorAttack\"] == 1])\n",
        "neg = len(df[df[\"HeartDiseaseorAttack\"] == 0])\n",
        "\n",
        "resampled_steps_per_epoch = np.ceil(2.0*neg/BATCH_SIZE)\n",
        "resampled_steps_per_epoch"
      ]
    },
    {
      "cell_type": "code",
      "execution_count": null,
      "metadata": {
        "colab": {
          "base_uri": "https://localhost:8080/"
        },
        "id": "fvvxfKnKV65c",
        "outputId": "d420a234-31ed-4a78-fd0e-66e4df4d3104"
      },
      "outputs": [
        {
          "output_type": "stream",
          "name": "stdout",
          "text": [
            "Epoch 1/10\n",
            "  7445/229787 [..............................] - ETA: 12:48 - loss: 0.5508 - tp: 5647.0000 - fp: 2315.0000 - tn: 5083.0000 - fn: 1845.0000 - accuracy: 0.7206 - precision: 0.7092 - recall: 0.7537 - auc: 0.7947 - prc: 0.7677"
          ]
        }
      ],
      "source": [
        "model = make_model(number_of_hidden_layers=1)\n",
        "\n",
        "val_ds = tf.data.Dataset.from_tensor_slices((val_features, val_labels)).cache()\n",
        "val_ds = val_ds.batch(BATCH_SIZE).prefetch(2) \n",
        "\n",
        "resampled_history = model.fit(\n",
        "    resampled_ds,\n",
        "    epochs=EPOCHS,\n",
        "    steps_per_epoch=resampled_steps_per_epoch,\n",
        "    callbacks=[early_stopping],\n",
        "    validation_data=val_ds)\n",
        "\n",
        "initial_weights = os.path.join(tempfile.mkdtemp(), 'initial_weights')\n",
        "model.save_weights('initial_weights')"
      ]
    },
    {
      "cell_type": "code",
      "execution_count": 35,
      "metadata": {
        "colab": {
          "base_uri": "https://localhost:8080/",
          "height": 1000
        },
        "id": "uztlaoRGzuDw",
        "outputId": "096adce5-5747-4bee-e33e-da32de3c5fda"
      },
      "outputs": [
        {
          "output_type": "stream",
          "name": "stdout",
          "text": [
            "Epoch 1/10\n",
            "225/225 [==============================] - 72s 308ms/step - loss: 0.5140 - tp: 339837.0000 - fp: 133788.0000 - tn: 264228.0000 - fn: 58819.0000 - accuracy: 0.7582 - precision: 0.7175 - recall: 0.8525 - auc: 0.8283 - prc: 0.7990 - val_loss: 0.4742 - val_tp: 3170.0000 - val_fp: 10745.0000 - val_tn: 26026.0000 - val_fn: 648.0000 - val_accuracy: 0.7193 - val_precision: 0.2278 - val_recall: 0.8303 - val_auc: 0.8452 - val_prc: 0.3622\n",
            "Epoch 2/10\n",
            "225/225 [==============================] - 56s 250ms/step - loss: 0.5136 - tp: 196481.0000 - fp: 78232.0000 - tn: 152478.0000 - fn: 33609.0000 - accuracy: 0.7573 - precision: 0.7152 - recall: 0.8539 - auc: 0.8265 - prc: 0.7979 - val_loss: 0.4658 - val_tp: 3125.0000 - val_fp: 10460.0000 - val_tn: 26311.0000 - val_fn: 693.0000 - val_accuracy: 0.7252 - val_precision: 0.2300 - val_recall: 0.8185 - val_auc: 0.8456 - val_prc: 0.3635\n",
            "Epoch 3/10\n",
            "225/225 [==============================] - 97s 433ms/step - loss: 0.5113 - tp: 196807.0000 - fp: 77335.0000 - tn: 152984.0000 - fn: 33674.0000 - accuracy: 0.7591 - precision: 0.7179 - recall: 0.8539 - auc: 0.8282 - prc: 0.8008 - val_loss: 0.4903 - val_tp: 3227.0000 - val_fp: 11155.0000 - val_tn: 25616.0000 - val_fn: 591.0000 - val_accuracy: 0.7106 - val_precision: 0.2244 - val_recall: 0.8452 - val_auc: 0.8459 - val_prc: 0.3639\n",
            "Epoch 4/10\n",
            "225/225 [==============================] - 50s 221ms/step - loss: 0.5114 - tp: 196223.0000 - fp: 76711.0000 - tn: 153734.0000 - fn: 34132.0000 - accuracy: 0.7595 - precision: 0.7189 - recall: 0.8518 - auc: 0.8283 - prc: 0.7999 - val_loss: 0.4979 - val_tp: 3265.0000 - val_fp: 11565.0000 - val_tn: 25206.0000 - val_fn: 553.0000 - val_accuracy: 0.7014 - val_precision: 0.2202 - val_recall: 0.8552 - val_auc: 0.8465 - val_prc: 0.3653\n",
            "Epoch 5/10\n",
            "225/225 [==============================] - 56s 251ms/step - loss: 0.5104 - tp: 196235.0000 - fp: 76422.0000 - tn: 154278.0000 - fn: 33865.0000 - accuracy: 0.7607 - precision: 0.7197 - recall: 0.8528 - auc: 0.8294 - prc: 0.8010 - val_loss: 0.4764 - val_tp: 3139.0000 - val_fp: 10412.0000 - val_tn: 26359.0000 - val_fn: 679.0000 - val_accuracy: 0.7267 - val_precision: 0.2316 - val_recall: 0.8222 - val_auc: 0.8465 - val_prc: 0.3654\n",
            "Epoch 6/10\n",
            "225/225 [==============================] - 97s 434ms/step - loss: 0.5101 - tp: 196666.0000 - fp: 76276.0000 - tn: 153878.0000 - fn: 33980.0000 - accuracy: 0.7607 - precision: 0.7205 - recall: 0.8527 - auc: 0.8296 - prc: 0.8020 - val_loss: 0.5052 - val_tp: 3256.0000 - val_fp: 11483.0000 - val_tn: 25288.0000 - val_fn: 562.0000 - val_accuracy: 0.7032 - val_precision: 0.2209 - val_recall: 0.8528 - val_auc: 0.8472 - val_prc: 0.3678\n",
            "Epoch 7/10\n",
            "225/225 [==============================] - 54s 239ms/step - loss: 0.5093 - tp: 196377.0000 - fp: 76074.0000 - tn: 154372.0000 - fn: 33977.0000 - accuracy: 0.7612 - precision: 0.7208 - recall: 0.8525 - auc: 0.8300 - prc: 0.8020 - val_loss: 0.4984 - val_tp: 3228.0000 - val_fp: 11251.0000 - val_tn: 25520.0000 - val_fn: 590.0000 - val_accuracy: 0.7083 - val_precision: 0.2229 - val_recall: 0.8455 - val_auc: 0.8477 - val_prc: 0.3687\n",
            "Epoch 8/10\n",
            "225/225 [==============================] - 57s 252ms/step - loss: 0.5091 - tp: 195834.0000 - fp: 75959.0000 - tn: 154786.0000 - fn: 34221.0000 - accuracy: 0.7609 - precision: 0.7205 - recall: 0.8512 - auc: 0.8303 - prc: 0.8021 - val_loss: 0.4766 - val_tp: 3193.0000 - val_fp: 10845.0000 - val_tn: 25926.0000 - val_fn: 625.0000 - val_accuracy: 0.7174 - val_precision: 0.2275 - val_recall: 0.8363 - val_auc: 0.8477 - val_prc: 0.3687\n",
            "Epoch 9/10\n",
            "225/225 [==============================] - 53s 235ms/step - loss: 0.5081 - tp: 197155.0000 - fp: 75718.0000 - tn: 154068.0000 - fn: 33859.0000 - accuracy: 0.7622 - precision: 0.7225 - recall: 0.8534 - auc: 0.8311 - prc: 0.8041 - val_loss: 0.4893 - val_tp: 3218.0000 - val_fp: 11111.0000 - val_tn: 25660.0000 - val_fn: 600.0000 - val_accuracy: 0.7115 - val_precision: 0.2246 - val_recall: 0.8428 - val_auc: 0.8480 - val_prc: 0.3702\n",
            "Epoch 10/10\n",
            "225/225 [==============================] - 47s 208ms/step - loss: 0.5077 - tp: 197141.0000 - fp: 75637.0000 - tn: 154234.0000 - fn: 33788.0000 - accuracy: 0.7625 - precision: 0.7227 - recall: 0.8537 - auc: 0.8314 - prc: 0.8053 - val_loss: 0.4841 - val_tp: 3191.0000 - val_fp: 10855.0000 - val_tn: 25916.0000 - val_fn: 627.0000 - val_accuracy: 0.7171 - val_precision: 0.2272 - val_recall: 0.8358 - val_auc: 0.8478 - val_prc: 0.3694\n",
            "Epoch 1/10\n",
            "225/225 [==============================] - 52s 219ms/step - loss: 0.5142 - tp: 199965.0000 - fp: 89459.0000 - tn: 177681.0000 - fn: 34284.0000 - accuracy: 0.7532 - precision: 0.6909 - recall: 0.8536 - auc: 0.8274 - prc: 0.7783 - val_loss: 0.4809 - val_tp: 3191.0000 - val_fp: 10913.0000 - val_tn: 25858.0000 - val_fn: 627.0000 - val_accuracy: 0.7157 - val_precision: 0.2262 - val_recall: 0.8358 - val_auc: 0.8451 - val_prc: 0.3622\n",
            "Epoch 2/10\n",
            "225/225 [==============================] - 97s 435ms/step - loss: 0.5130 - tp: 196316.0000 - fp: 77676.0000 - tn: 152978.0000 - fn: 33830.0000 - accuracy: 0.7580 - precision: 0.7165 - recall: 0.8530 - auc: 0.8270 - prc: 0.7989 - val_loss: 0.4990 - val_tp: 3265.0000 - val_fp: 11594.0000 - val_tn: 25177.0000 - val_fn: 553.0000 - val_accuracy: 0.7007 - val_precision: 0.2197 - val_recall: 0.8552 - val_auc: 0.8456 - val_prc: 0.3631\n",
            "Epoch 3/10\n",
            "225/225 [==============================] - 48s 215ms/step - loss: 0.5116 - tp: 196125.0000 - fp: 76782.0000 - tn: 153812.0000 - fn: 34081.0000 - accuracy: 0.7594 - precision: 0.7187 - recall: 0.8520 - auc: 0.8283 - prc: 0.8006 - val_loss: 0.5005 - val_tp: 3261.0000 - val_fp: 11537.0000 - val_tn: 25234.0000 - val_fn: 557.0000 - val_accuracy: 0.7020 - val_precision: 0.2204 - val_recall: 0.8541 - val_auc: 0.8460 - val_prc: 0.3641\n",
            "Epoch 4/10\n",
            "225/225 [==============================] - 56s 251ms/step - loss: 0.5118 - tp: 196429.0000 - fp: 76875.0000 - tn: 153751.0000 - fn: 33745.0000 - accuracy: 0.7599 - precision: 0.7187 - recall: 0.8534 - auc: 0.8282 - prc: 0.7994 - val_loss: 0.4694 - val_tp: 3127.0000 - val_fp: 10454.0000 - val_tn: 26317.0000 - val_fn: 691.0000 - val_accuracy: 0.7254 - val_precision: 0.2302 - val_recall: 0.8190 - val_auc: 0.8465 - val_prc: 0.3663\n",
            "Epoch 5/10\n",
            "225/225 [==============================] - 57s 252ms/step - loss: 0.5105 - tp: 196197.0000 - fp: 76308.0000 - tn: 154127.0000 - fn: 34168.0000 - accuracy: 0.7603 - precision: 0.7200 - recall: 0.8517 - auc: 0.8291 - prc: 0.8011 - val_loss: 0.5039 - val_tp: 3265.0000 - val_fp: 11635.0000 - val_tn: 25136.0000 - val_fn: 553.0000 - val_accuracy: 0.6997 - val_precision: 0.2191 - val_recall: 0.8552 - val_auc: 0.8466 - val_prc: 0.3667\n",
            "Epoch 6/10\n",
            "225/225 [==============================] - 55s 247ms/step - loss: 0.5099 - tp: 195532.0000 - fp: 76047.0000 - tn: 155046.0000 - fn: 34175.0000 - accuracy: 0.7608 - precision: 0.7200 - recall: 0.8512 - auc: 0.8295 - prc: 0.8008 - val_loss: 0.4826 - val_tp: 3206.0000 - val_fp: 10999.0000 - val_tn: 25772.0000 - val_fn: 612.0000 - val_accuracy: 0.7139 - val_precision: 0.2257 - val_recall: 0.8397 - val_auc: 0.8473 - val_prc: 0.3679\n",
            "Epoch 7/10\n",
            "225/225 [==============================] - 50s 224ms/step - loss: 0.5095 - tp: 196011.0000 - fp: 75848.0000 - tn: 154855.0000 - fn: 34086.0000 - accuracy: 0.7614 - precision: 0.7210 - recall: 0.8519 - auc: 0.8302 - prc: 0.8025 - val_loss: 0.4670 - val_tp: 3146.0000 - val_fp: 10475.0000 - val_tn: 26296.0000 - val_fn: 672.0000 - val_accuracy: 0.7254 - val_precision: 0.2310 - val_recall: 0.8240 - val_auc: 0.8473 - val_prc: 0.3676\n",
            "Epoch 8/10\n",
            "225/225 [==============================] - 57s 252ms/step - loss: 0.5082 - tp: 195648.0000 - fp: 75731.0000 - tn: 155318.0000 - fn: 34103.0000 - accuracy: 0.7616 - precision: 0.7209 - recall: 0.8516 - auc: 0.8309 - prc: 0.8025 - val_loss: 0.4786 - val_tp: 3184.0000 - val_fp: 10766.0000 - val_tn: 26005.0000 - val_fn: 634.0000 - val_accuracy: 0.7191 - val_precision: 0.2282 - val_recall: 0.8339 - val_auc: 0.8480 - val_prc: 0.3694\n",
            "Epoch 9/10\n",
            "225/225 [==============================] - 56s 252ms/step - loss: 0.5086 - tp: 195458.0000 - fp: 75874.0000 - tn: 155299.0000 - fn: 34169.0000 - accuracy: 0.7612 - precision: 0.7204 - recall: 0.8512 - auc: 0.8309 - prc: 0.8027 - val_loss: 0.4560 - val_tp: 3106.0000 - val_fp: 9999.0000 - val_tn: 26772.0000 - val_fn: 712.0000 - val_accuracy: 0.7361 - val_precision: 0.2370 - val_recall: 0.8135 - val_auc: 0.8482 - val_prc: 0.3700\n",
            "Epoch 10/10\n",
            "225/225 [==============================] - 55s 245ms/step - loss: 0.5075 - tp: 196378.0000 - fp: 75166.0000 - tn: 155062.0000 - fn: 34194.0000 - accuracy: 0.7627 - precision: 0.7232 - recall: 0.8517 - auc: 0.8314 - prc: 0.8043 - val_loss: 0.5062 - val_tp: 3238.0000 - val_fp: 11379.0000 - val_tn: 25392.0000 - val_fn: 580.0000 - val_accuracy: 0.7054 - val_precision: 0.2215 - val_recall: 0.8481 - val_auc: 0.8480 - val_prc: 0.3703\n",
            "Epoch 1/10\n",
            "225/225 [==============================] - 101s 439ms/step - loss: 0.5143 - tp: 200254.0000 - fp: 90023.0000 - tn: 177176.0000 - fn: 33936.0000 - accuracy: 0.7528 - precision: 0.6899 - recall: 0.8551 - auc: 0.8257 - prc: 0.7761 - val_loss: 0.4834 - val_tp: 3206.0000 - val_fp: 11053.0000 - val_tn: 25718.0000 - val_fn: 612.0000 - val_accuracy: 0.7126 - val_precision: 0.2248 - val_recall: 0.8397 - val_auc: 0.8452 - val_prc: 0.3623\n",
            "Epoch 2/10\n",
            "225/225 [==============================] - 92s 409ms/step - loss: 0.5132 - tp: 196091.0000 - fp: 78154.0000 - tn: 152809.0000 - fn: 33746.0000 - accuracy: 0.7572 - precision: 0.7150 - recall: 0.8532 - auc: 0.8269 - prc: 0.7981 - val_loss: 0.4626 - val_tp: 3116.0000 - val_fp: 10252.0000 - val_tn: 26519.0000 - val_fn: 702.0000 - val_accuracy: 0.7301 - val_precision: 0.2331 - val_recall: 0.8161 - val_auc: 0.8458 - val_prc: 0.3632\n",
            "Epoch 3/10\n",
            "225/225 [==============================] - ETA: 0s - loss: 0.5118 - tp: 195836.0000 - fp: 77138.0000 - tn: 153853.0000 - fn: 33973.0000 - accuracy: 0.7589 - precision: 0.7174 - recall: 0.8522 - auc: 0.8282 - prc: 0.7993"
          ]
        },
        {
          "output_type": "error",
          "ename": "KeyboardInterrupt",
          "evalue": "ignored",
          "traceback": [
            "\u001b[0;31m---------------------------------------------------------------------------\u001b[0m",
            "\u001b[0;31mKeyboardInterrupt\u001b[0m                         Traceback (most recent call last)",
            "\u001b[0;32m<ipython-input-35-6055a6952419>\u001b[0m in \u001b[0;36m<module>\u001b[0;34m()\u001b[0m\n\u001b[1;32m     18\u001b[0m         \u001b[0msteps_per_epoch\u001b[0m\u001b[0;34m=\u001b[0m\u001b[0mresampled_steps_per_epoch\u001b[0m\u001b[0;34m,\u001b[0m\u001b[0;34m\u001b[0m\u001b[0;34m\u001b[0m\u001b[0m\n\u001b[1;32m     19\u001b[0m         \u001b[0mcallbacks\u001b[0m\u001b[0;34m=\u001b[0m\u001b[0;34m[\u001b[0m\u001b[0mearly_stopping\u001b[0m\u001b[0;34m]\u001b[0m\u001b[0;34m,\u001b[0m\u001b[0;34m\u001b[0m\u001b[0;34m\u001b[0m\u001b[0m\n\u001b[0;32m---> 20\u001b[0;31m         validation_data=val_ds)\n\u001b[0m\u001b[1;32m     21\u001b[0m \u001b[0;34m\u001b[0m\u001b[0m\n\u001b[1;32m     22\u001b[0m     \u001b[0mres\u001b[0m \u001b[0;34m=\u001b[0m \u001b[0;34m{\u001b[0m\u001b[0;34m'rec'\u001b[0m\u001b[0;34m:\u001b[0m\u001b[0;36m0\u001b[0m\u001b[0;34m,\u001b[0m\u001b[0;34m'acc'\u001b[0m\u001b[0;34m:\u001b[0m\u001b[0;36m0\u001b[0m\u001b[0;34m}\u001b[0m\u001b[0;34m\u001b[0m\u001b[0;34m\u001b[0m\u001b[0m\n",
            "\u001b[0;32m/usr/local/lib/python3.7/dist-packages/keras/utils/traceback_utils.py\u001b[0m in \u001b[0;36merror_handler\u001b[0;34m(*args, **kwargs)\u001b[0m\n\u001b[1;32m     62\u001b[0m     \u001b[0mfiltered_tb\u001b[0m \u001b[0;34m=\u001b[0m \u001b[0;32mNone\u001b[0m\u001b[0;34m\u001b[0m\u001b[0;34m\u001b[0m\u001b[0m\n\u001b[1;32m     63\u001b[0m     \u001b[0;32mtry\u001b[0m\u001b[0;34m:\u001b[0m\u001b[0;34m\u001b[0m\u001b[0;34m\u001b[0m\u001b[0m\n\u001b[0;32m---> 64\u001b[0;31m       \u001b[0;32mreturn\u001b[0m \u001b[0mfn\u001b[0m\u001b[0;34m(\u001b[0m\u001b[0;34m*\u001b[0m\u001b[0margs\u001b[0m\u001b[0;34m,\u001b[0m \u001b[0;34m**\u001b[0m\u001b[0mkwargs\u001b[0m\u001b[0;34m)\u001b[0m\u001b[0;34m\u001b[0m\u001b[0;34m\u001b[0m\u001b[0m\n\u001b[0m\u001b[1;32m     65\u001b[0m     \u001b[0;32mexcept\u001b[0m \u001b[0mException\u001b[0m \u001b[0;32mas\u001b[0m \u001b[0me\u001b[0m\u001b[0;34m:\u001b[0m  \u001b[0;31m# pylint: disable=broad-except\u001b[0m\u001b[0;34m\u001b[0m\u001b[0;34m\u001b[0m\u001b[0m\n\u001b[1;32m     66\u001b[0m       \u001b[0mfiltered_tb\u001b[0m \u001b[0;34m=\u001b[0m \u001b[0m_process_traceback_frames\u001b[0m\u001b[0;34m(\u001b[0m\u001b[0me\u001b[0m\u001b[0;34m.\u001b[0m\u001b[0m__traceback__\u001b[0m\u001b[0;34m)\u001b[0m\u001b[0;34m\u001b[0m\u001b[0;34m\u001b[0m\u001b[0m\n",
            "\u001b[0;32m/usr/local/lib/python3.7/dist-packages/keras/engine/training.py\u001b[0m in \u001b[0;36mfit\u001b[0;34m(self, x, y, batch_size, epochs, verbose, callbacks, validation_split, validation_data, shuffle, class_weight, sample_weight, initial_epoch, steps_per_epoch, validation_steps, validation_batch_size, validation_freq, max_queue_size, workers, use_multiprocessing)\u001b[0m\n\u001b[1;32m   1429\u001b[0m               \u001b[0muse_multiprocessing\u001b[0m\u001b[0;34m=\u001b[0m\u001b[0muse_multiprocessing\u001b[0m\u001b[0;34m,\u001b[0m\u001b[0;34m\u001b[0m\u001b[0;34m\u001b[0m\u001b[0m\n\u001b[1;32m   1430\u001b[0m               \u001b[0mreturn_dict\u001b[0m\u001b[0;34m=\u001b[0m\u001b[0;32mTrue\u001b[0m\u001b[0;34m,\u001b[0m\u001b[0;34m\u001b[0m\u001b[0;34m\u001b[0m\u001b[0m\n\u001b[0;32m-> 1431\u001b[0;31m               _use_cached_eval_dataset=True)\n\u001b[0m\u001b[1;32m   1432\u001b[0m           \u001b[0mval_logs\u001b[0m \u001b[0;34m=\u001b[0m \u001b[0;34m{\u001b[0m\u001b[0;34m'val_'\u001b[0m \u001b[0;34m+\u001b[0m \u001b[0mname\u001b[0m\u001b[0;34m:\u001b[0m \u001b[0mval\u001b[0m \u001b[0;32mfor\u001b[0m \u001b[0mname\u001b[0m\u001b[0;34m,\u001b[0m \u001b[0mval\u001b[0m \u001b[0;32min\u001b[0m \u001b[0mval_logs\u001b[0m\u001b[0;34m.\u001b[0m\u001b[0mitems\u001b[0m\u001b[0;34m(\u001b[0m\u001b[0;34m)\u001b[0m\u001b[0;34m}\u001b[0m\u001b[0;34m\u001b[0m\u001b[0;34m\u001b[0m\u001b[0m\n\u001b[1;32m   1433\u001b[0m           \u001b[0mepoch_logs\u001b[0m\u001b[0;34m.\u001b[0m\u001b[0mupdate\u001b[0m\u001b[0;34m(\u001b[0m\u001b[0mval_logs\u001b[0m\u001b[0;34m)\u001b[0m\u001b[0;34m\u001b[0m\u001b[0;34m\u001b[0m\u001b[0m\n",
            "\u001b[0;32m/usr/local/lib/python3.7/dist-packages/keras/utils/traceback_utils.py\u001b[0m in \u001b[0;36merror_handler\u001b[0;34m(*args, **kwargs)\u001b[0m\n\u001b[1;32m     62\u001b[0m     \u001b[0mfiltered_tb\u001b[0m \u001b[0;34m=\u001b[0m \u001b[0;32mNone\u001b[0m\u001b[0;34m\u001b[0m\u001b[0;34m\u001b[0m\u001b[0m\n\u001b[1;32m     63\u001b[0m     \u001b[0;32mtry\u001b[0m\u001b[0;34m:\u001b[0m\u001b[0;34m\u001b[0m\u001b[0;34m\u001b[0m\u001b[0m\n\u001b[0;32m---> 64\u001b[0;31m       \u001b[0;32mreturn\u001b[0m \u001b[0mfn\u001b[0m\u001b[0;34m(\u001b[0m\u001b[0;34m*\u001b[0m\u001b[0margs\u001b[0m\u001b[0;34m,\u001b[0m \u001b[0;34m**\u001b[0m\u001b[0mkwargs\u001b[0m\u001b[0;34m)\u001b[0m\u001b[0;34m\u001b[0m\u001b[0;34m\u001b[0m\u001b[0m\n\u001b[0m\u001b[1;32m     65\u001b[0m     \u001b[0;32mexcept\u001b[0m \u001b[0mException\u001b[0m \u001b[0;32mas\u001b[0m \u001b[0me\u001b[0m\u001b[0;34m:\u001b[0m  \u001b[0;31m# pylint: disable=broad-except\u001b[0m\u001b[0;34m\u001b[0m\u001b[0;34m\u001b[0m\u001b[0m\n\u001b[1;32m     66\u001b[0m       \u001b[0mfiltered_tb\u001b[0m \u001b[0;34m=\u001b[0m \u001b[0m_process_traceback_frames\u001b[0m\u001b[0;34m(\u001b[0m\u001b[0me\u001b[0m\u001b[0;34m.\u001b[0m\u001b[0m__traceback__\u001b[0m\u001b[0;34m)\u001b[0m\u001b[0;34m\u001b[0m\u001b[0;34m\u001b[0m\u001b[0m\n",
            "\u001b[0;31mKeyboardInterrupt\u001b[0m: "
          ]
        }
      ],
      "source": [
        "activations = ['relu', 'sigmoid', 'softmax']\n",
        "rates = [1e-2,1e-3,1e-4]\n",
        "\n",
        "results = {}\n",
        "\n",
        "for activation_function in activations:\n",
        "  results[activation_function] = []\n",
        "  for learning_rate in rates:\n",
        "    model = make_model(number_of_hidden_layers=1, activation_function=activation_function, learning_rate=learning_rate)\n",
        "    model.load_weights('initial_weights')\n",
        "\n",
        "    val_ds = tf.data.Dataset.from_tensor_slices((val_features, val_labels)).cache()\n",
        "    val_ds = val_ds.batch(BATCH_SIZE).prefetch(2) \n",
        "\n",
        "    resampled_history = model.fit(\n",
        "        resampled_ds,\n",
        "        epochs=EPOCHS,\n",
        "        steps_per_epoch=resampled_steps_per_epoch,\n",
        "        callbacks=[early_stopping],\n",
        "        validation_data=val_ds)\n",
        "    \n",
        "    res = {'rec':0,'acc':0}\n",
        "    res['rec'] = max(resampled_history.history[\"val_recall\"])\n",
        "    res['acc'] = max(resampled_history.history[\"val_accuracy\"])\n",
        "    \n",
        "    results[activation_function].append(res)"
      ]
    },
    {
      "cell_type": "code",
      "execution_count": null,
      "metadata": {
        "id": "xln8ZEMbDo-B"
      },
      "outputs": [],
      "source": [
        "print(results)"
      ]
    },
    {
      "cell_type": "code",
      "execution_count": null,
      "metadata": {
        "id": "7JNZ086vD9zv"
      },
      "outputs": [],
      "source": [
        "def make_model():\n",
        "  layers = [keras.layers.Dense(16, activation='relu',input_shape=(train_features.shape[-1],)),\n",
        "          keras.layers.Dense(16, input_dim=16, activation='relu'),\n",
        "          keras.layers.Dropout(0.5),\n",
        "          keras.layers.Dense(1, activation='sigmoid')]\n",
        "\n",
        "  model = keras.Sequential(layers)\n",
        "\n",
        "  model.compile(\n",
        "      optimizer=keras.optimizers.Adam(learning_rate=1e-3),\n",
        "      loss=keras.losses.BinaryCrossentropy(),\n",
        "      metrics=METRICS)\n",
        "\n",
        "  return model\n",
        "\n",
        "model = make_model()\n",
        "model.summary()\n",
        "\n",
        "val_ds = tf.data.Dataset.from_tensor_slices((val_features, val_labels)).cache()\n",
        "val_ds = val_ds.batch(BATCH_SIZE).prefetch(2) \n",
        "\n",
        "resampled_history = model.fit(\n",
        "    resampled_ds,\n",
        "    epochs=EPOCHS,\n",
        "    steps_per_epoch=resampled_steps_per_epoch,\n",
        "    callbacks=[early_stopping],\n",
        "    validation_data=val_ds)"
      ]
    }
  ],
  "metadata": {
    "colab": {
      "collapsed_sections": [],
      "name": "MLP",
      "provenance": []
    },
    "kernelspec": {
      "display_name": "Python 3",
      "name": "python3"
    },
    "language_info": {
      "name": "python"
    }
  },
  "nbformat": 4,
  "nbformat_minor": 0
}