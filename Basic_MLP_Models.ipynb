{
  "nbformat": 4,
  "nbformat_minor": 0,
  "metadata": {
    "colab": {
      "name": "351 GP - Models.ipynb",
      "provenance": [],
      "collapsed_sections": []
    },
    "kernelspec": {
      "name": "python3",
      "display_name": "Python 3"
    },
    "language_info": {
      "name": "python"
    }
  },
  "cells": [
    {
      "cell_type": "markdown",
      "source": [
        "# Library and data import"
      ],
      "metadata": {
        "id": "XAIXYQZJyz9K"
      }
    },
    {
      "cell_type": "code",
      "source": [
        "import pandas as pd\n",
        "from keras.models import Sequential\n",
        "from keras.layers import Dense\n",
        "from keras.wrappers.scikit_learn import KerasClassifier\n",
        "from sklearn.model_selection import StratifiedKFold\n",
        "from sklearn.model_selection import cross_val_score\n",
        "from sklearn.model_selection import train_test_split\n"
      ],
      "metadata": {
        "id": "Ng4oyEGKek7h"
      },
      "execution_count": null,
      "outputs": []
    },
    {
      "cell_type": "code",
      "source": [
        "df = pd.read_csv(\"heart_indicators_clean.csv\") "
      ],
      "metadata": {
        "id": "NuWI1BtiXouA"
      },
      "execution_count": null,
      "outputs": []
    },
    {
      "cell_type": "markdown",
      "source": [
        "# Data Engineering"
      ],
      "metadata": {
        "id": "xYQ9RcM2iUO7"
      }
    },
    {
      "cell_type": "code",
      "source": [
        "#drop_these = ['Fruits','Veggies','CholCheck','BMI','PhysActivity','HvyAlcoholConsump','AnyHealthcare','NoDocbcCost','MentHlth','Sex','Education']\n",
        "df_imp = df.copy()\n",
        "#for label in drop_these:\n",
        "#  df_imp = df_imp.drop(label, axis=1)"
      ],
      "metadata": {
        "id": "gQkNAW_6iWWp"
      },
      "execution_count": null,
      "outputs": []
    },
    {
      "cell_type": "code",
      "source": [
        "df_imp.columns"
      ],
      "metadata": {
        "colab": {
          "base_uri": "https://localhost:8080/"
        },
        "id": "UOpNOx-WehDj",
        "outputId": "fc2913c4-63ca-46b1-c1ae-c3ee6684ce5a"
      },
      "execution_count": null,
      "outputs": [
        {
          "output_type": "execute_result",
          "data": {
            "text/plain": [
              "Index(['HeartDiseaseorAttack', 'HighBP', 'HighChol', 'CholCheck', 'BMI',\n",
              "       'Smoker', 'Stroke', 'Diabetes', 'PhysActivity', 'Fruits', 'Veggies',\n",
              "       'HvyAlcoholConsump', 'AnyHealthcare', 'NoDocbcCost', 'GenHlth',\n",
              "       'MentHlth', 'PhysHlth', 'DiffWalk', 'Sex', 'Age', 'Education',\n",
              "       'Income'],\n",
              "      dtype='object')"
            ]
          },
          "metadata": {},
          "execution_count": 5
        }
      ]
    },
    {
      "cell_type": "markdown",
      "source": [
        "# ANN Model Training"
      ],
      "metadata": {
        "id": "LWXXY11HbycR"
      }
    },
    {
      "cell_type": "code",
      "source": [
        "import tensorflow as tf\n",
        "from tensorflow import keras as keras\n",
        "\n",
        "print(tf.__version__)\n",
        "\n",
        "METRICS = [\n",
        "      keras.metrics.BinaryAccuracy(name='accuracy'),\n",
        "      keras.metrics.Precision(name='precision'),\n",
        "      keras.metrics.Recall(name='recall'),\n",
        "]\n",
        "\n",
        "def createModel(dim=21):\n",
        "  model = Sequential()\n",
        "  #output_bias = tf.keras.initializers.Constant(-2.26356726)\n",
        "  #model.add(Dense(32, input_dim=dim, activation='relu'))\n",
        "  #model.add(Dense(16, input_dim=16, activation='relu'))\n",
        "  model.add(Dense(1, activation='sigmoid'))\n",
        "  model.compile(loss='binary_crossentropy', optimizer='adam', metrics=METRICS)\n",
        "\n",
        "  return model"
      ],
      "metadata": {
        "id": "TT7cdjIlb0QZ",
        "colab": {
          "base_uri": "https://localhost:8080/"
        },
        "outputId": "5ef1f3cc-75f9-4b7d-86bc-f2ddbf2d39b0"
      },
      "execution_count": null,
      "outputs": [
        {
          "output_type": "stream",
          "name": "stdout",
          "text": [
            "2.8.0\n"
          ]
        }
      ]
    },
    {
      "cell_type": "code",
      "source": [
        "x = len(df['HeartDiseaseorAttack'])\n",
        "y = len(df[df['HeartDiseaseorAttack'] == 1])\n",
        "print(y/x)\n",
        "\n",
        "print(len(df['HeartDiseaseorAttack']))\n",
        "print(len(df[df['HeartDiseaseorAttack'] == 1]))"
      ],
      "metadata": {
        "colab": {
          "base_uri": "https://localhost:8080/"
        },
        "id": "M6-4yB7TEVmT",
        "outputId": "4d1bb037-5e80-4a1a-f14d-b057aad06ec7"
      },
      "execution_count": null,
      "outputs": [
        {
          "output_type": "stream",
          "name": "stdout",
          "text": [
            "0.09418558814254178\n",
            "253680\n",
            "23893\n"
          ]
        }
      ]
    },
    {
      "cell_type": "code",
      "source": [
        "\n",
        "np.log([23893/(253680-23893)])"
      ],
      "metadata": {
        "colab": {
          "base_uri": "https://localhost:8080/"
        },
        "id": "5D8MEVsDEQGF",
        "outputId": "88a4e095-18ba-40ef-81ab-b8c01383eeb7"
      },
      "execution_count": null,
      "outputs": [
        {
          "output_type": "execute_result",
          "data": {
            "text/plain": [
              "array([-2.26356726])"
            ]
          },
          "metadata": {},
          "execution_count": 51
        }
      ]
    },
    {
      "cell_type": "code",
      "source": [
        "def evaluateModel(model, df, epochs=5):\n",
        "  train, test = train_test_split(df, test_size=0.1)\n",
        "  Y = train['HeartDiseaseorAttack']\n",
        "  X = train.drop('HeartDiseaseorAttack', axis=1)\n",
        "\n",
        "  Y_test = test['HeartDiseaseorAttack']\n",
        "  X_test = test.drop('HeartDiseaseorAttack', axis=1)\n",
        "\n",
        "  history = model.fit(X, Y, epochs=epochs, batch_size=5)\n",
        "  evaluation = model.evaluate(X_test, Y_test)\n",
        "\n",
        "  acc = {'train':history.history[\"accuracy\"][-1],\n",
        "         'test':evaluation[1],\n",
        "         }\n",
        "\n",
        "  return acc\n"
      ],
      "metadata": {
        "id": "DKkn9eh_b_vh"
      },
      "execution_count": null,
      "outputs": []
    },
    {
      "cell_type": "code",
      "source": [
        "model = createModel(len(df_imp.columns)-1)"
      ],
      "metadata": {
        "id": "XVPlgbnB4nCj"
      },
      "execution_count": null,
      "outputs": []
    },
    {
      "cell_type": "code",
      "source": [
        "#train, test = train_test_split(df_imp, test_size=0.1)\n",
        "#Y = train['HeartDiseaseorAttack']\n",
        "#X = train.drop('HeartDiseaseorAttack', axis=1)\n",
        "\n",
        "#Y_test = test['HeartDiseaseorAttack']\n",
        "#X_test = test.drop('HeartDiseaseorAttack', axis=1)\n",
        "\n",
        "Y = df_imp['HeartDiseaseorAttack']\n",
        "X = df_imp.drop('HeartDiseaseorAttack', axis=1)\n",
        "\n",
        "history = model.fit(X, Y, epochs=1, batch_size=5,validation_split = 0.1)\n",
        "#evaluation = model.evaluate(X_test, Y_test)"
      ],
      "metadata": {
        "colab": {
          "base_uri": "https://localhost:8080/"
        },
        "id": "c6-hg0fy45_C",
        "outputId": "3535db22-4a18-409d-e9cf-11a233305c95"
      },
      "execution_count": null,
      "outputs": [
        {
          "output_type": "stream",
          "name": "stdout",
          "text": [
            "45663/45663 [==============================] - 81s 2ms/step - loss: 0.2394 - accuracy: 0.9077 - precision: 0.5347 - recall: 0.1250 - val_loss: 0.2500 - val_accuracy: 0.9020 - val_precision: 0.4919 - val_recall: 0.1593\n"
          ]
        }
      ]
    },
    {
      "cell_type": "code",
      "source": [
        "print(history.history['val_accuracy'])"
      ],
      "metadata": {
        "colab": {
          "base_uri": "https://localhost:8080/"
        },
        "id": "ht_dwnD-6l6w",
        "outputId": "8f9b0c5e-da18-4cf0-f556-5d6172450d81"
      },
      "execution_count": null,
      "outputs": [
        {
          "output_type": "stream",
          "name": "stdout",
          "text": [
            "[0.902790904045105, 0.9036975502967834, 0.9032639265060425, 0.904446542263031, 0.9025937914848328]\n"
          ]
        }
      ]
    },
    {
      "cell_type": "code",
      "source": [
        "train, test = train_test_split(df_imp, test_size=0.1)\n",
        "Y_test = test['HeartDiseaseorAttack']\n",
        "X_test = test.drop('HeartDiseaseorAttack', axis=1)\n",
        "Y_pred = model.predict(X_test)"
      ],
      "metadata": {
        "id": "fu4jzq-b8J5S"
      },
      "execution_count": null,
      "outputs": []
    },
    {
      "cell_type": "code",
      "source": [
        "import numpy as np\n",
        "Y_pred_r = np.rint(Y_pred)\n",
        "\n",
        "print(Y_pred_r)"
      ],
      "metadata": {
        "colab": {
          "base_uri": "https://localhost:8080/"
        },
        "id": "qeBh4Hua98Mm",
        "outputId": "26f3f457-0ba4-49c8-bdc0-caf6bd9f12f6"
      },
      "execution_count": null,
      "outputs": [
        {
          "output_type": "stream",
          "name": "stdout",
          "text": [
            "[[0.]\n",
            " [0.]\n",
            " [0.]\n",
            " ...\n",
            " [0.]\n",
            " [0.]\n",
            " [0.]]\n"
          ]
        }
      ]
    },
    {
      "cell_type": "code",
      "source": [
        "from sklearn.metrics import confusion_matrix\n",
        "\n",
        "confusion_matrix(Y_test, Y_pred_r)\n"
      ],
      "metadata": {
        "colab": {
          "base_uri": "https://localhost:8080/"
        },
        "id": "UBFi_i6b9pLi",
        "outputId": "61cd9530-7e5f-403d-a6e8-dad3d68ddc85"
      },
      "execution_count": null,
      "outputs": [
        {
          "output_type": "execute_result",
          "data": {
            "text/plain": [
              "array([[22699,   264],\n",
              "       [ 2061,   344]])"
            ]
          },
          "metadata": {},
          "execution_count": 31
        }
      ]
    },
    {
      "cell_type": "code",
      "source": [
        "print(len(Y_pred_r))"
      ],
      "metadata": {
        "colab": {
          "base_uri": "https://localhost:8080/"
        },
        "id": "qlsZYxx3-bgU",
        "outputId": "acc17cbf-86ac-42ab-9101-aab3bb0e273a"
      },
      "execution_count": null,
      "outputs": [
        {
          "output_type": "stream",
          "name": "stdout",
          "text": [
            "25368\n"
          ]
        }
      ]
    },
    {
      "cell_type": "code",
      "source": [
        "val_acc = history.history['val_accuracy']\n",
        "acc = history.history['accuracy']\n",
        "x = [1,2,3,4,5]\n",
        "plt.plot(x, acc, color='b',label='Training accuracy')\n",
        "plt.plot(x,val_acc, color='r', label='Validation accuracy')\n",
        "plt.title('Model accuracy throughout epochs')\n",
        "plt.xlabel('Epochs')\n",
        "plt.ylabel('Accuracy')\n",
        "plt.ylim([0.89,0.91])\n",
        "plt.legend()\n",
        "plt.show()"
      ],
      "metadata": {
        "colab": {
          "base_uri": "https://localhost:8080/",
          "height": 295
        },
        "id": "fzd2qJj_79SI",
        "outputId": "82ef49ba-f05b-49d1-9459-74962ed24e52"
      },
      "execution_count": null,
      "outputs": [
        {
          "output_type": "display_data",
          "data": {
            "text/plain": [
              "<Figure size 432x288 with 1 Axes>"
            ],
            "image/png": "[encoded data removed]"
          },
          "metadata": {
            "needs_background": "light"
          }
        }
      ]
    },
    {
      "cell_type": "code",
      "source": [
        "model = createModel(len(df_imp.columns)-1)\n",
        "accs = []\n",
        "\n",
        "K_CROSS_VALIDATION = 1\n",
        "\n",
        "for i in range(K_CROSS_VALIDATION):\n",
        "  results = evaluateModel(model, df_imp)\n",
        "  accs.append(results)\n"
      ],
      "metadata": {
        "id": "bHYbnqh9fOQ-"
      },
      "execution_count": null,
      "outputs": []
    },
    {
      "cell_type": "code",
      "source": [
        "sum = 0\n",
        "for i in accs:\n",
        "  sum += i['test']\n",
        "\n",
        "acc = round((sum*100)/len(accs),2)\n",
        "\n",
        "print('Acccuracy: ' + str(acc))"
      ],
      "metadata": {
        "id": "pDB4u4WSkOii"
      },
      "execution_count": null,
      "outputs": []
    },
    {
      "cell_type": "code",
      "source": [
        "plot_cm(test_labels, test_predictions_resampled)"
      ],
      "metadata": {
        "id": "Yy0cKVZ9YznX"
      },
      "execution_count": null,
      "outputs": []
    }
  ]
}